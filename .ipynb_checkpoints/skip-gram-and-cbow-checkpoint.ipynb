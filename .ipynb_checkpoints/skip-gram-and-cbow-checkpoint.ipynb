{
 "cells": [
  {
   "cell_type": "markdown",
   "metadata": {
    "collapsed": true
   },
   "source": [
    "### importing the required libraries"
   ]
  },
  {
   "cell_type": "code",
   "execution_count": 3,
   "metadata": {
    "pycharm": {
     "is_executing": true
    }
   },
   "outputs": [],
   "source": [
    "import random, collections, math, os, zipfile, time, re\n",
    "import numpy as np\n",
    "import tensorflow as tf\n",
    "\n",
    "from matplotlib import pylab\n",
    "%matplotlib inline\n",
    "\n",
    "from six.moves import range\n",
    "from six.moves.urllib.request import urlretrieve"
   ]
  },
  {
   "cell_type": "markdown",
   "metadata": {},
   "source": [
    "### download and extract dataset"
   ]
  },
  {
   "cell_type": "code",
   "execution_count": 4,
   "metadata": {},
   "outputs": [
    {
     "name": "stdout",
     "output_type": "stream",
     "text": [
      "Dataset already exists\n"
     ]
    }
   ],
   "source": [
    "dataset_link = 'http://mattmahoney.net/dc/'\n",
    "zip_file = 'text8.zip'\n",
    "\n",
    "def data_download(zip_file):\n",
    "    if not os.path.exists(zip_file):\n",
    "        zip_file, _ = urlretrieve(dataset_link + zip_file, zip_file)\n",
    "        print('Dataset downloaded')\n",
    "    print('Dataset already exists')    \n",
    "    return None\n",
    "data_download(zip_file)"
   ]
  },
  {
   "cell_type": "code",
   "execution_count": 5,
   "metadata": {},
   "outputs": [],
   "source": [
    "extracted_folder = 'dataset'\n",
    "\n",
    "if not os.path.isdir(extracted_folder):\n",
    "    with zipfile.ZipFile(zip_file) as zf:\n",
    "        zf.extractall(extracted_folder)\n",
    "with open('dataset/text8') as ft_:\n",
    "    full_text = ft_.read()"
   ]
  },
  {
   "cell_type": "markdown",
   "metadata": {},
   "source": [
    "### Text processing"
   ]
  },
  {
   "cell_type": "code",
   "execution_count": 6,
   "metadata": {},
   "outputs": [],
   "source": [
    "def text_processing(ft8_text):\n",
    "    ft8_text = ft8_text.lower()\n",
    "    ft8_text = ft8_text.replace('.', '<period> ')\n",
    "    ft8_text = ft8_text.replace(',', '<comma> ')\n",
    "    ft8_text = ft8_text.replace('\"\"', '<quotation> ')\n",
    "    ft8_text = ft8_text.replace(';', '<semicolon> ')\n",
    "    ft8_text = ft8_text.replace('!', '<exclamation> ')\n",
    "    ft8_text = ft8_text.replace('?', '<question> ')\n",
    "    ft8_text = ft8_text.replace('(', '<paren_l> ')\n",
    "    ft8_text = ft8_text.replace(')', '<paren_r> ')\n",
    "    ft8_text = ft8_text.replace('--', '<hyphen> ')\n",
    "    ft8_text = ft8_text.replace(':', '<colon> ')\n",
    "    ft8_text_tokens = ft8_text.split()\n",
    "    \n",
    "    return ft8_text_tokens\n",
    "\n",
    "ft_tokens = text_processing(full_text)"
   ]
  },
  {
   "cell_type": "markdown",
   "metadata": {},
   "source": [
    "#### remove noise related to word"
   ]
  },
  {
   "cell_type": "code",
   "execution_count": 7,
   "metadata": {},
   "outputs": [
    {
     "name": "stdout",
     "output_type": "stream",
     "text": [
      "253854\n",
      "['anarchism', 'originated', 'as', 'a', 'term', 'of', 'abuse', 'first', 'used', 'against']\n",
      "16616688\n",
      "Unique ones:  53721\n"
     ]
    }
   ],
   "source": [
    "word_cnt = collections.Counter(ft_tokens)\n",
    "print(len(word_cnt.values()))\n",
    "\n",
    "shortlisted_words = [w for w in ft_tokens if word_cnt[w] > 7]\n",
    "print(shortlisted_words[:10])\n",
    "\n",
    "print(len(shortlisted_words))\n",
    "print(\"Unique ones: \", len(set(shortlisted_words)))"
   ]
  },
  {
   "cell_type": "markdown",
   "metadata": {},
   "source": [
    "#### create a dictionary of the words present in dataset with their frequency order"
   ]
  },
  {
   "cell_type": "code",
   "execution_count": 14,
   "metadata": {},
   "outputs": [
    {
     "name": "stdout",
     "output_type": "stream",
     "text": [
      "5233\n"
     ]
    }
   ],
   "source": [
    "def dict_creation(shortlisted_words):\n",
    "    counts = collections.Counter(shortlisted_words)\n",
    "    vocabulary = sorted(counts, key=counts.get, reverse=True)\n",
    "    rev_dictionary_ = {ii: word for ii, word in enumerate(vocabulary)}\n",
    "    dictionary_ = {word: ii for ii, word in rev_dictionary_.items()}\n",
    "    return dictionary_, rev_dictionary_\n",
    "\n",
    "dictionary_, rev_dictionary_ = dict_creation(shortlisted_words)\n",
    "\n",
    "words_cnt = [dictionary_[word] for word in shortlisted_words]\n",
    "\n",
    "print(words_cnt[0])"
   ]
  },
  {
   "cell_type": "markdown",
   "metadata": {},
   "source": [
    "## Let's start with Skip-Gram Model "
   ]
  },
  {
   "cell_type": "markdown",
   "metadata": {},
   "source": [
    "### Create a threshold and perform the subsampling"
   ]
  },
  {
   "cell_type": "code",
   "execution_count": 18,
   "metadata": {},
   "outputs": [
    {
     "name": "stdout",
     "output_type": "stream",
     "text": [
      "5233\n"
     ]
    }
   ],
   "source": [
    "thresh = 0.00005\n",
    "word_counts = collections.Counter(words_cnt)\n",
    "total_count = len(words_cnt)\n",
    "freqs = {word: count / total_count for word, count in word_counts.items()}\n",
    "p_drop = {word: 1 - np.sqrt(thresh/freqs[word]) for word in word_counts}\n",
    "\n",
    "train_words = [word for word in words_cnt if p_drop[word] < random.random()]\n",
    "\n",
    "print(train_words[0])"
   ]
  },
  {
   "cell_type": "code",
   "execution_count": null,
   "metadata": {},
   "outputs": [],
   "source": [
    "def skipG_target_set_generation(batch_, batch_index, word_window): \n",
    "    \"\"\"The function combines the words of given word_window size next to the index, for the SkipGram model\"\"\"\n",
    "    random_num = np.random.randint(1, word_window+1)\n",
    "    words_start = batch_index - random_num if (batch_index - random_num) > 0 else 0\n",
    "    words_stop = batch_index + random_num\n",
    "    window_target = set(batch_[words_start:batch_index] + batch_[batch_index+1:words_stop+1])\n",
    "    return list(window_target)"
   ]
  }
 ],
 "metadata": {
  "kernelspec": {
   "display_name": "Python 3",
   "language": "python",
   "name": "python3"
  },
  "language_info": {
   "codemirror_mode": {
    "name": "ipython",
    "version": 3
   },
   "file_extension": ".py",
   "mimetype": "text/x-python",
   "name": "python",
   "nbconvert_exporter": "python",
   "pygments_lexer": "ipython3",
   "version": "3.8.5"
  }
 },
 "nbformat": 4,
 "nbformat_minor": 1
}
