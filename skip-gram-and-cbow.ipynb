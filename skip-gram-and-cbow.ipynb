{
 "cells": [
  {
   "cell_type": "markdown",
   "metadata": {
    "collapsed": true
   },
   "source": [
    "### importing the required libraries"
   ]
  },
  {
   "cell_type": "code",
   "execution_count": 25,
   "metadata": {
    "pycharm": {
     "is_executing": true
    }
   },
   "outputs": [],
   "source": [
    "import random, collections, math, os, zipfile, time, re\n",
    "import numpy as np\n",
    "import tensorflow.compat.v1 as tf\n",
    "tf.disable_v2_behavior() \n",
    "\n",
    "from matplotlib import pylab\n",
    "%matplotlib inline\n",
    "\n",
    "from six.moves import range\n",
    "from six.moves.urllib.request import urlretrieve"
   ]
  },
  {
   "cell_type": "markdown",
   "metadata": {},
   "source": [
    "### download and extract dataset"
   ]
  },
  {
   "cell_type": "code",
   "execution_count": 26,
   "metadata": {},
   "outputs": [
    {
     "name": "stdout",
     "output_type": "stream",
     "text": [
      "Dataset already exists\n"
     ]
    }
   ],
   "source": [
    "dataset_link = 'http://mattmahoney.net/dc/'\n",
    "zip_file = 'text8.zip'\n",
    "\n",
    "def data_download(zip_file):\n",
    "    if not os.path.exists(zip_file):\n",
    "        zip_file, _ = urlretrieve(dataset_link + zip_file, zip_file)\n",
    "        print('Dataset downloaded')\n",
    "    print('Dataset already exists')    \n",
    "    return None\n",
    "data_download(zip_file)"
   ]
  },
  {
   "cell_type": "code",
   "execution_count": 27,
   "metadata": {},
   "outputs": [],
   "source": [
    "extracted_folder = 'dataset'\n",
    "\n",
    "if not os.path.isdir(extracted_folder):\n",
    "    with zipfile.ZipFile(zip_file) as zf:\n",
    "        zf.extractall(extracted_folder)\n",
    "with open('dataset/text8') as ft_:\n",
    "    full_text = ft_.read()"
   ]
  },
  {
   "cell_type": "markdown",
   "metadata": {},
   "source": [
    "### Text processing"
   ]
  },
  {
   "cell_type": "code",
   "execution_count": 28,
   "metadata": {},
   "outputs": [],
   "source": [
    "def text_processing(ft8_text):\n",
    "    ft8_text = ft8_text.lower()\n",
    "    ft8_text = ft8_text.replace('.', '<period> ')\n",
    "    ft8_text = ft8_text.replace(',', '<comma> ')\n",
    "    ft8_text = ft8_text.replace('\"\"', '<quotation> ')\n",
    "    ft8_text = ft8_text.replace(';', '<semicolon> ')\n",
    "    ft8_text = ft8_text.replace('!', '<exclamation> ')\n",
    "    ft8_text = ft8_text.replace('?', '<question> ')\n",
    "    ft8_text = ft8_text.replace('(', '<paren_l> ')\n",
    "    ft8_text = ft8_text.replace(')', '<paren_r> ')\n",
    "    ft8_text = ft8_text.replace('--', '<hyphen> ')\n",
    "    ft8_text = ft8_text.replace(':', '<colon> ')\n",
    "    ft8_text_tokens = ft8_text.split()\n",
    "    \n",
    "    return ft8_text_tokens\n",
    "\n",
    "ft_tokens = text_processing(full_text)"
   ]
  },
  {
   "cell_type": "markdown",
   "metadata": {},
   "source": [
    "#### remove noise related to word"
   ]
  },
  {
   "cell_type": "code",
   "execution_count": 29,
   "metadata": {},
   "outputs": [
    {
     "name": "stdout",
     "output_type": "stream",
     "text": [
      "253854\n",
      "['anarchism', 'originated', 'as', 'a', 'term', 'of', 'abuse', 'first', 'used', 'against']\n",
      "16616688\n",
      "Unique ones:  53721\n"
     ]
    }
   ],
   "source": [
    "word_cnt = collections.Counter(ft_tokens)\n",
    "print(len(word_cnt.values()))\n",
    "\n",
    "shortlisted_words = [w for w in ft_tokens if word_cnt[w] > 7]\n",
    "print(shortlisted_words[:10])\n",
    "\n",
    "print(len(shortlisted_words))\n",
    "print(\"Unique ones: \", len(set(shortlisted_words)))"
   ]
  },
  {
   "cell_type": "markdown",
   "metadata": {},
   "source": [
    "#### create a dictionary of the words present in dataset with their frequency order"
   ]
  },
  {
   "cell_type": "code",
   "execution_count": 30,
   "metadata": {},
   "outputs": [
    {
     "name": "stdout",
     "output_type": "stream",
     "text": [
      "5233\n"
     ]
    }
   ],
   "source": [
    "def dict_creation(shortlisted_words):\n",
    "    counts = collections.Counter(shortlisted_words)\n",
    "    vocabulary = sorted(counts, key=counts.get, reverse=True)\n",
    "    rev_dictionary_ = {ii: word for ii, word in enumerate(vocabulary)}\n",
    "    dictionary_ = {word: ii for ii, word in rev_dictionary_.items()}\n",
    "    return dictionary_, rev_dictionary_\n",
    "\n",
    "dictionary_, rev_dictionary_ = dict_creation(shortlisted_words)\n",
    "\n",
    "words_cnt = [dictionary_[word] for word in shortlisted_words]\n",
    "\n",
    "print(words_cnt[0])"
   ]
  },
  {
   "cell_type": "markdown",
   "metadata": {},
   "source": [
    "## Let's start with Skip-Gram Model "
   ]
  },
  {
   "cell_type": "markdown",
   "metadata": {},
   "source": [
    "### Create a threshold and perform the subsampling"
   ]
  },
  {
   "cell_type": "code",
   "execution_count": 31,
   "metadata": {},
   "outputs": [
    {
     "name": "stdout",
     "output_type": "stream",
     "text": [
      "5233\n"
     ]
    }
   ],
   "source": [
    "thresh = 0.00005\n",
    "word_counts = collections.Counter(words_cnt)\n",
    "total_count = len(words_cnt)\n",
    "freqs = {word: count / total_count for word, count in word_counts.items()}\n",
    "p_drop = {word: 1 - np.sqrt(thresh/freqs[word]) for word in word_counts}\n",
    "\n",
    "train_words = [word for word in words_cnt if p_drop[word] < random.random()]\n",
    "\n",
    "print(train_words[0])"
   ]
  },
  {
   "cell_type": "code",
   "execution_count": 32,
   "metadata": {},
   "outputs": [],
   "source": [
    "def skipG_target_set_generation(batch_, batch_index, word_window): \n",
    "    \"\"\"The function combines the words of given word_window size next to the index, for the SkipGram model\"\"\"\n",
    "    random_num = np.random.randint(1, word_window+1)\n",
    "    words_start = batch_index - random_num if (batch_index - random_num) > 0 else 0\n",
    "    words_stop = batch_index + random_num\n",
    "    window_target = set(batch_[words_start:batch_index] + batch_[batch_index+1:words_stop+1])\n",
    "    return list(window_target)"
   ]
  },
  {
   "cell_type": "code",
   "execution_count": 33,
   "metadata": {},
   "outputs": [],
   "source": [
    "def skipG_batch_creation(short_words, batch_length, word_window):\n",
    "    \"\"\"The function internally makes use of the skipG_target_set_generation() function and combines each of the label \n",
    "    words in the shortlisted_words with the words of word_window size around\"\"\"\n",
    "    batch_cnt = len(short_words)//batch_length\n",
    "    short_words = short_words[:batch_cnt*batch_length]  \n",
    "    \n",
    "    for word_index in range(0, len(short_words), batch_length):\n",
    "        input_words, label_words = [], []\n",
    "        word_batch = short_words[word_index:word_index+batch_length]\n",
    "        for index_ in range(len(word_batch)):\n",
    "            batch_input = word_batch[index_]\n",
    "            batch_label = skipG_target_set_generation(word_batch, index_, word_window)\n",
    "            # Appending the label and inputs to the initial list. Replicating input to the size of labels in the window \n",
    "            label_words.extend(batch_label)\n",
    "            input_words.extend([batch_input]*len(batch_label))\n",
    "        yield input_words, label_words"
   ]
  },
  {
   "cell_type": "code",
   "execution_count": 34,
   "metadata": {},
   "outputs": [],
   "source": [
    "tf_graph = tf.Graph()\n",
    "with tf_graph.as_default():\n",
    "    input_ = tf.placeholder(tf.int32, [None], name='input_')\n",
    "    label_ = tf.placeholder(tf.int32, [None, None], name='label_')\n",
    "\n",
    "with tf_graph.as_default():\n",
    "    word_embed = tf.Variable(tf.random_uniform((len(rev_dictionary_), 300), -1, 1))\n",
    "    embedding = tf.nn.embedding_lookup(word_embed, input_)"
   ]
  },
  {
   "cell_type": "code",
   "execution_count": 35,
   "metadata": {},
   "outputs": [],
   "source": [
    "vocabulary_size = len(rev_dictionary_)\n",
    "\n",
    "with tf_graph.as_default():\n",
    "    sf_weights = tf.Variable(tf.truncated_normal((vocabulary_size, 300), stddev=0.1) )\n",
    "    sf_bias = tf.Variable(tf.zeros(vocabulary_size) )\n",
    "\n",
    "    loss_fn = tf.nn.sampled_softmax_loss(weights=sf_weights, biases=sf_bias, \n",
    "                                         labels=label_, inputs=embedding, \n",
    "                                         num_sampled=100, num_classes=vocabulary_size)\n",
    "    cost_fn = tf.reduce_mean(loss_fn)\n",
    "    optim = tf.train.AdamOptimizer().minimize(cost_fn)"
   ]
  },
  {
   "cell_type": "code",
   "execution_count": 36,
   "metadata": {},
   "outputs": [
    {
     "name": "stdout",
     "output_type": "stream",
     "text": [
      "WARNING:tensorflow:From /Users/dawidkubicki/.conda/envs/word2vec-cbow/lib/python3.8/site-packages/tensorflow/python/util/dispatch.py:201: calling reduce_sum_v1 (from tensorflow.python.ops.math_ops) with keep_dims is deprecated and will be removed in a future version.\n",
      "Instructions for updating:\n",
      "keep_dims is deprecated, use keepdims instead\n"
     ]
    }
   ],
   "source": [
    "with tf_graph.as_default():\n",
    "    validation_cnt = 16\n",
    "    validation_dict = 100\n",
    "    \n",
    "    validation_words = np.array(random.sample(range(validation_dict), validation_cnt//2))\n",
    "    validation_words = np.append(validation_words, random.sample(range(1000,1000+validation_dict), validation_cnt//2))\n",
    "    validation_data = tf.constant(validation_words, dtype=tf.int32)\n",
    "\n",
    "    normalization_embed = word_embed / (tf.sqrt(tf.reduce_sum(tf.square(word_embed), 1, keep_dims=True)))\n",
    "    validation_embed = tf.nn.embedding_lookup(normalization_embed, validation_data)\n",
    "    word_similarity = tf.matmul(validation_embed, tf.transpose(normalization_embed))"
   ]
  },
  {
   "cell_type": "code",
   "execution_count": null,
   "metadata": {},
   "outputs": [
    {
     "name": "stdout",
     "output_type": "stream",
     "text": [
      "Epoch 1/2 , Iteration: 100 , Avg. Training loss: 6.1584 , Processing : 0.2850 sec/batch\n",
      "Epoch 1/2 , Iteration: 200 , Avg. Training loss: 6.1111 , Processing : 0.2601 sec/batch\n",
      "Epoch 1/2 , Iteration: 300 , Avg. Training loss: 6.0691 , Processing : 0.2497 sec/batch\n",
      "Epoch 1/2 , Iteration: 400 , Avg. Training loss: 6.0186 , Processing : 0.2514 sec/batch\n",
      "Epoch 1/2 , Iteration: 500 , Avg. Training loss: 5.9604 , Processing : 0.2534 sec/batch\n",
      "Epoch 1/2 , Iteration: 600 , Avg. Training loss: 5.9675 , Processing : 0.2533 sec/batch\n",
      "Epoch 1/2 , Iteration: 700 , Avg. Training loss: 5.9078 , Processing : 0.2562 sec/batch\n",
      "Epoch 1/2 , Iteration: 800 , Avg. Training loss: 5.7870 , Processing : 0.2674 sec/batch\n",
      "Epoch 1/2 , Iteration: 900 , Avg. Training loss: 5.7256 , Processing : 0.2871 sec/batch\n",
      "Epoch 1/2 , Iteration: 1000 , Avg. Training loss: 5.6398 , Processing : 0.2625 sec/batch\n",
      "Epoch 1/2 , Iteration: 1100 , Avg. Training loss: 5.4889 , Processing : 0.2663 sec/batch\n",
      "Epoch 1/2 , Iteration: 1200 , Avg. Training loss: 5.3965 , Processing : 0.2759 sec/batch\n",
      "Epoch 1/2 , Iteration: 1300 , Avg. Training loss: 5.2802 , Processing : 0.2827 sec/batch\n",
      "Epoch 1/2 , Iteration: 1400 , Avg. Training loss: 5.1713 , Processing : 0.2706 sec/batch\n",
      "Epoch 1/2 , Iteration: 1500 , Avg. Training loss: 5.1431 , Processing : 0.2740 sec/batch\n"
     ]
    }
   ],
   "source": [
    "epochs = 2            # Increase it as per computation resources. It has been kept low here for users to replicate the process, increase to 100 or more\n",
    "batch_length = 1000\n",
    "word_window = 10\n",
    "\n",
    "with tf_graph.as_default():\n",
    "    saver = tf.train.Saver()\n",
    "\n",
    "with tf.Session(graph=tf_graph) as sess:\n",
    "    iteration = 1\n",
    "    loss = 0\n",
    "    sess.run(tf.global_variables_initializer())\n",
    "\n",
    "    for e in range(1, epochs+1):\n",
    "        batches = skipG_batch_creation(train_words, batch_length, word_window)\n",
    "        start = time.time()\n",
    "        for x, y in batches:\n",
    "            train_loss, _ = sess.run([cost_fn, optim], \n",
    "                                     feed_dict={input_: x, label_: np.array(y)[:, None]})\n",
    "            loss += train_loss\n",
    "            \n",
    "            if iteration % 100 == 0: \n",
    "                end = time.time()\n",
    "                print(\"Epoch {}/{}\".format(e, epochs), \", Iteration: {}\".format(iteration),\n",
    "                      \", Avg. Training loss: {:.4f}\".format(loss/100),\", Processing : {:.4f} sec/batch\".format((end-start)/100))\n",
    "                loss = 0\n",
    "                start = time.time()\n",
    "            \n",
    "            if iteration % 2000 == 0:\n",
    "                similarity_ = word_similarity.eval()\n",
    "                for i in range(validation_cnt):\n",
    "                    validated_words = rev_dictionary_[validation_words[i]]\n",
    "                    top_k = 8 # number of nearest neighbors\n",
    "                    nearest = (-similarity_[i, :]).argsort()[1:top_k+1]\n",
    "                    log = 'Nearest to %s:' % validated_words\n",
    "                    for k in range(top_k):\n",
    "                        close_word = rev_dictionary_[nearest[k]]\n",
    "                        log = '%s %s,' % (log, close_word)\n",
    "                    print(log)\n",
    "            \n",
    "            iteration += 1\n",
    "    save_path = saver.save(sess, \"model_checkpoint/skipGram_text8.ckpt\")\n",
    "    embed_mat = sess.run(normalization_embed)"
   ]
  }
 ],
 "metadata": {
  "kernelspec": {
   "display_name": "Python 3",
   "language": "python",
   "name": "python3"
  },
  "language_info": {
   "codemirror_mode": {
    "name": "ipython",
    "version": 3
   },
   "file_extension": ".py",
   "mimetype": "text/x-python",
   "name": "python",
   "nbconvert_exporter": "python",
   "pygments_lexer": "ipython3",
   "version": "3.8.5"
  }
 },
 "nbformat": 4,
 "nbformat_minor": 1
}
