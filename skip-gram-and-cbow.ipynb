{
 "cells": [
  {
   "cell_type": "markdown",
   "metadata": {
    "collapsed": true
   },
   "source": [
    "### importing the required libraries"
   ]
  },
  {
   "cell_type": "code",
   "execution_count": 16,
   "metadata": {},
   "outputs": [],
   "source": [
    "import random, collections, math, os, zipfile, time, re\n",
    "import numpy as np\n",
    "import tensorflow as tf\n",
    "\n",
    "from matplotlib import pylab\n",
    "%matplotlib inline\n",
    "\n",
    "from six.moves import range\n",
    "from six.moves.urllib.request import urlretrieve"
   ]
  },
  {
   "cell_type": "markdown",
   "metadata": {},
   "source": [
    "### download and extract dataset"
   ]
  },
  {
   "cell_type": "code",
   "execution_count": 23,
   "metadata": {},
   "outputs": [
    {
     "name": "stdout",
     "output_type": "stream",
     "text": [
      "Dataset already exists\n"
     ]
    }
   ],
   "source": [
    "dataset_link = 'http://mattmahoney.net/dc/'\n",
    "zip_file = 'text8.zip'\n",
    "\n",
    "def data_download(zip_file):\n",
    "    if not os.path.exists(zip_file):\n",
    "        zip_file, _ = urlretrieve(dataset_link + zip_file, zip_file)\n",
    "        print('Dataset downloaded')\n",
    "    print('Dataset already exists')    \n",
    "    return None\n",
    "data_download(zip_file)"
   ]
  },
  {
   "cell_type": "code",
   "execution_count": 25,
   "metadata": {},
   "outputs": [],
   "source": [
    "extracted_folder = 'dataset'\n",
    "\n",
    "if not os.path.isdir(extracted_folder):\n",
    "    with zipfile.ZipFile(zip_file) as zf:\n",
    "        zf.extractall(extracted_folder)\n",
    "with open('dataset/text8') as ft_:\n",
    "    full_text = ft_.read()"
   ]
  },
  {
   "cell_type": "markdown",
   "metadata": {},
   "source": [
    "### Text processing"
   ]
  },
  {
   "cell_type": "code",
   "execution_count": 27,
   "metadata": {},
   "outputs": [],
   "source": [
    "def text_processing(ft8_text):\n",
    "    ft8_text = ft8_text.lower()\n",
    "    ft8_text = ft8_text.replace('.', '<period> ')\n",
    "    ft8_text = ft8_text.replace(',', '<comma> ')\n",
    "    ft8_text = ft8_text.replace('\"\"', '<quotation> ')\n",
    "    ft8_text = ft8_text.replace(';', '<semicolon> ')\n",
    "    ft8_text = ft8_text.replace('!', '<exclamation> ')\n",
    "    ft8_text = ft8_text.replace('?', '<question> ')\n",
    "    ft8_text = ft8_text.replace('(', '<paren_l> ')\n",
    "    ft8_text = ft8_text.replace(')', '<paren_r> ')\n",
    "    ft8_text = ft8_text.replace('--', '<hyphen> ')\n",
    "    ft8_text = ft8_text.replace(':', '<colon> ')\n",
    "    ft8_text_tokens = ft8_text.split()\n",
    "    \n",
    "    return ft8_text_tokens\n",
    "\n",
    "ft_tokens = text_processing(full_text)"
   ]
  },
  {
   "cell_type": "markdown",
   "metadata": {},
   "source": [
    "#### remove noise related to word"
   ]
  },
  {
   "cell_type": "code",
   "execution_count": 42,
   "metadata": {},
   "outputs": [
    {
     "name": "stdout",
     "output_type": "stream",
     "text": [
      "253854\n",
      "['anarchism', 'originated', 'as', 'a', 'term', 'of', 'abuse', 'first', 'used', 'against']\n",
      "16616688\n"
     ]
    }
   ],
   "source": [
    "word_cnt = collections.Counter(ft_tokens)\n",
    "print(len(word_cnt.keys()))\n",
    "\n",
    "shortlisted_words = [w for w in ft_tokens if word_cnt[w] > 7]\n",
    "print(shortlisted_words[:10])\n",
    "\n",
    "print(len(shortlisted_words))\n",
    "print(\"Unique ones: \", )"
   ]
  }
 ],
 "metadata": {
  "kernelspec": {
   "display_name": "Python 3",
   "language": "python",
   "name": "python3"
  },
  "language_info": {
   "codemirror_mode": {
    "name": "ipython",
    "version": 3
   },
   "file_extension": ".py",
   "mimetype": "text/x-python",
   "name": "python",
   "nbconvert_exporter": "python",
   "pygments_lexer": "ipython3",
   "version": "3.8.5"
  }
 },
 "nbformat": 4,
 "nbformat_minor": 1
}
